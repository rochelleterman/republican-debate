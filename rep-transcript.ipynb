{
 "cells": [
  {
   "cell_type": "code",
   "execution_count": 7,
   "metadata": {
    "collapsed": false
   },
   "outputs": [],
   "source": [
    "import re, os\n",
    "import csv"
   ]
  },
  {
   "cell_type": "code",
   "execution_count": 21,
   "metadata": {
    "collapsed": false
   },
   "outputs": [],
   "source": [
    "with open(\"transcript.txt\") as f:\n",
    "    text = f.read()\n",
    "text = text.split(\"\\n\")\n",
    "text = filter(None,text)"
   ]
  },
  {
   "cell_type": "code",
   "execution_count": 22,
   "metadata": {
    "collapsed": false
   },
   "outputs": [
    {
     "data": {
      "text/plain": [
       "'KELLY: It is nine p.m. on the East Coast, and the moment of truth has arrived.'"
      ]
     },
     "execution_count": 22,
     "metadata": {},
     "output_type": "execute_result"
    }
   ],
   "source": [
    "text[0]"
   ]
  },
  {
   "cell_type": "code",
   "execution_count": 23,
   "metadata": {
    "collapsed": false
   },
   "outputs": [
    {
     "data": {
      "text/plain": [
       "[\"KELLY: Welcome to the first debate night of the 2016 presidential campaign, live from Quicken Loans Arena in Cleveland, Ohio.I'm Megyn Kelly, along with my co-moderators, Brett Baier and Chris Wallace.Tonight-Nice.Tonight, thousands of people here in the Q, along with millions of voters at home will get their very first chance to see the candidates face off in a debate, answering the questions you want answered.\",\n",
       " \"BAIER: Less than a year from now, in this very arena, one of these 10 candidates or one of the seven on the previous debate tonight will accept the Republican party's nomination.Tonight's candidates were selected based on an average of five national polls. Just a few hours ago, you heard from the candidates ranked 11th through 17. And now, the prime-time event, the top 10.\",\n",
       " \"WALLACE: Also of note, Fox News is partnering for tonight's debate with Facebook. For the past several weeks, we've been asking you for questions for the candidates on Facebook. Nearly 6 million of you, 6 million, viewed the debate videos on our site, and more than 40,000 of you submitted questions: some of which you will hear us asking the candidates tonight.\",\n",
       " 'KELLY: As for the candidates who will be answering those questions? Here they are.Positioned on the stage by how they stand in the polls, in the center of the stage tonight, businessman Donald Trump.Former Florida Governor Jeb Bush.Wisconsin Governor Scott Walker.Former Arkansas Governor Mike Huckabee.',\n",
       " 'BAIER: Neurosurgeon, Dr. Ben Carson.Texas Senator Ted Cruz.Florida Senator Marco Rubio.',\n",
       " 'WALLACE: Kentucky Senator Rand Paul.New Jersey Governor Chris Christie.(APPLAUSE) And your very own governor of Ohio-- John Kasich.',\n",
       " 'WALLACE: Brett - Brett, I think you would call that a home field advantage.',\n",
       " \"BAIER: It might be. It might be. We'll see.(UNKNOWN): Is this in the rules? An objection's coming.\",\n",
       " \"BAIER: It might be. The rules for tonight are simple. One minute for answers, 30 seconds for follow-ups. And if a candidate runs over, you'll hear this.Pleasant, no?We also have a big crowd here with us tonight in the home of the Cavaliers, as I mentioned.And while we expect them-- we expect them to be enthusiastic, as you heard, we don't want to take anything away from the valuable time for the candidate. So, we're looking for somewhere between a reaction to a LeBron James dunk and the Cleveland Public Library across the street.Somewhere there, we'll find a balance tonight.Without further ado, let's begin.\"]"
      ]
     },
     "execution_count": 23,
     "metadata": {},
     "output_type": "execute_result"
    }
   ],
   "source": [
    "statements = []\n",
    "for i in text:\n",
    "    if re.match(\"[A-Z]+:\",i,re.MULTILINE):\n",
    "        statements.append(i)\n",
    "    else:\n",
    "        #continue\n",
    "        try:\n",
    "            statements[-1] = str(statements[-1]) + str(i)\n",
    "        except:\n",
    "            continue\n",
    "statements[1:10]"
   ]
  },
  {
   "cell_type": "code",
   "execution_count": 24,
   "metadata": {
    "collapsed": false
   },
   "outputs": [],
   "source": [
    "s = []\n",
    "for i in statements:\n",
    "    dic = {}\n",
    "    speaker = re.findall(\"[A-Z]+:\",i,re.MULTILINE)[0]\n",
    "    dic['speaker'] = speaker.split(':')[0]\n",
    "    text = i.split(speaker)[1]\n",
    "    dic['text'] = text\n",
    "    s.append(dic)"
   ]
  },
  {
   "cell_type": "code",
   "execution_count": 25,
   "metadata": {
    "collapsed": false
   },
   "outputs": [
    {
     "data": {
      "text/plain": [
       "{'speaker': 'KELLY',\n",
       " 'text': \" Welcome to the first debate night of the 2016 presidential campaign, live from Quicken Loans Arena in Cleveland, Ohio.I'm Megyn Kelly, along with my co-moderators, Brett Baier and Chris Wallace.Tonight-Nice.Tonight, thousands of people here in the Q, along with millions of voters at home will get their very first chance to see the candidates face off in a debate, answering the questions you want answered.\"}"
      ]
     },
     "execution_count": 25,
     "metadata": {},
     "output_type": "execute_result"
    }
   ],
   "source": [
    "s[1]"
   ]
  },
  {
   "cell_type": "code",
   "execution_count": 26,
   "metadata": {
    "collapsed": false
   },
   "outputs": [
    {
     "data": {
      "text/plain": [
       "['text', 'speaker']"
      ]
     },
     "execution_count": 26,
     "metadata": {},
     "output_type": "execute_result"
    }
   ],
   "source": [
    "keys = s[0].keys()\n",
    "keys"
   ]
  },
  {
   "cell_type": "code",
   "execution_count": 27,
   "metadata": {
    "collapsed": false
   },
   "outputs": [],
   "source": [
    "#writing the rest\n",
    "with open('transcript.csv', 'wb') as output_file:\n",
    "    dict_writer = csv.DictWriter(output_file, keys)\n",
    "    dict_writer.writeheader()\n",
    "    dict_writer.writerows(s)"
   ]
  },
  {
   "cell_type": "code",
   "execution_count": null,
   "metadata": {
    "collapsed": true
   },
   "outputs": [],
   "source": []
  }
 ],
 "metadata": {
  "kernelspec": {
   "display_name": "Python 2",
   "language": "python",
   "name": "python2"
  },
  "language_info": {
   "codemirror_mode": {
    "name": "ipython",
    "version": 2
   },
   "file_extension": ".py",
   "mimetype": "text/x-python",
   "name": "python",
   "nbconvert_exporter": "python",
   "pygments_lexer": "ipython2",
   "version": "2.7.9"
  }
 },
 "nbformat": 4,
 "nbformat_minor": 0
}
