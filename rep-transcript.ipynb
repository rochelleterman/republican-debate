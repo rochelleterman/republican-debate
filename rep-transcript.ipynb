{
 "cells": [
  {
   "cell_type": "code",
   "execution_count": 7,
   "metadata": {
    "collapsed": false
   },
   "outputs": [],
   "source": [
    "import re, os\n",
    "import csv"
   ]
  },
  {
   "cell_type": "code",
   "execution_count": 14,
   "metadata": {
    "collapsed": false
   },
   "outputs": [],
   "source": [
    "with open(\"transcript.txt\") as f:\n",
    "    text = f.read()\n",
    "text = text.split(\"\\n\")\n",
    "text = filter(None,text)"
   ]
  },
  {
   "cell_type": "code",
   "execution_count": 15,
   "metadata": {
    "collapsed": false
   },
   "outputs": [
    {
     "data": {
      "text/plain": [
       "'KELLY: It is nine p.m. on the East Coast, and the moment of truth has arrived.'"
      ]
     },
     "execution_count": 15,
     "metadata": {},
     "output_type": "execute_result"
    }
   ],
   "source": [
    "text[0]"
   ]
  },
  {
   "cell_type": "code",
   "execution_count": 16,
   "metadata": {
    "collapsed": false
   },
   "outputs": [
    {
     "data": {
      "text/plain": [
       "[\"KELLY: Welcome to the first debate night of the 2016 presidential campaign, live from Quicken Loans Arena in Cleveland, Ohio.I'm Megyn Kelly, along with my co-moderators, Brett Baier and Chris Wallace.Tonight-Nice.Tonight, thousands of people here in the Q, along with millions of voters at home will get their very first chance to see the candidates face off in a debate, answering the questions you want answered.\",\n",
       " \"BAIER: Less than a year from now, in this very arena, one of these 10 candidates or one of the seven on the previous debate tonight will accept the Republican party's nomination.Tonight's candidates were selected based on an average of five national polls. Just a few hours ago, you heard from the candidates ranked 11th through 17. And now, the prime-time event, the top 10.\",\n",
       " \"WALLACE: Also of note, Fox News is partnering for tonight's debate with Facebook. For the past several weeks, we've been asking you for questions for the candidates on Facebook. Nearly 6 million of you, 6 million, viewed the debate videos on our site, and more than 40,000 of you submitted questions: some of which you will hear us asking the candidates tonight.\",\n",
       " 'KELLY: As for the candidates who will be answering those questions? Here they are.Positioned on the stage by how they stand in the polls, in the center of the stage tonight, businessman Donald Trump.Former Florida Governor Jeb Bush.Wisconsin Governor Scott Walker.Former Arkansas Governor Mike Huckabee.',\n",
       " 'BAIER: Neurosurgeon, Dr. Ben Carson.Texas Senator Ted Cruz.Florida Senator Marco Rubio.',\n",
       " 'WALLACE: Kentucky Senator Rand Paul.New Jersey Governor Chris Christie.(APPLAUSE) And your very own governor of Ohio-- John Kasich.',\n",
       " 'WALLACE: Brett - Brett, I think you would call that a home field advantage.',\n",
       " \"BAIER: It might be. It might be. We'll see.(UNKNOWN): Is this in the rules? An objection's coming.\",\n",
       " \"BAIER: It might be. The rules for tonight are simple. One minute for answers, 30 seconds for follow-ups. And if a candidate runs over, you'll hear this.Pleasant, no?We also have a big crowd here with us tonight in the home of the Cavaliers, as I mentioned.And while we expect them-- we expect them to be enthusiastic, as you heard, we don't want to take anything away from the valuable time for the candidate. So, we're looking for somewhere between a reaction to a LeBron James dunk and the Cleveland Public Library across the street.Somewhere there, we'll find a balance tonight.Without further ado, let's begin.\",\n",
       " \"BAIER: Gentlemen, we know how much you love hand-raising questions. So we promise, this is the only one tonight: the only one. Is there anyone on stage, and can I see hands, who is unwilling tonight to pledge your support to the eventual nominee of the Republican party and pledge to not run an independent campaign against that person.Again, we're looking for you to raise your hand now - raise your hand now if you won't make that pledge tonight.Mr. Trump.Mr. Trump to be clear, you're standing on a Republican primary debate stage.\",\n",
       " 'TRUMP: I fully understand.',\n",
       " 'BAIER: The place where the RNC will give the nominee the nod.',\n",
       " 'TRUMP: I fully understand.',\n",
       " \"BAIER: And that experts say an independent run would almost certainly hand the race over to Democrats and likely another Clinton.You can't say tonight that you can make that pledge?\",\n",
       " \"TRUMP: I cannot say. I have to respect the person that, if it's not me, the person that wins, if I do win, and I'm leading by quite a bit, that's what I want to do. I can totally make that pledge. If I'm the nominee, I will pledge I will not run as an independent. But - and I am discussing it with everybody, but I'm, you know, talking about a lot of leverage. We want to win, and we will win. But I want to win as the Republican. I want to run as the Republican nominee.\",\n",
       " \"BAIER: So tonight, you can't say if another one of these-\",\n",
       " \"PAUL: This is what's wrong!\",\n",
       " 'BAIER: OK.',\n",
       " \"PAUL: I mean, this is what's wrong. He buys and sells politicians of all stripes, he's already-\",\n",
       " 'BAIER: Dr. Paul.',\n",
       " \"PAUL: Hey, look, look! He's already hedging his bet on the Clintons, OK? So if he doesn't run as a Republican, maybe he supports Clinton, or maybe he runs as an independent-\",\n",
       " 'BAIER: OK.',\n",
       " \"PAUL: -but I'd say that he's already hedging his bets because he's used to buying politicians.\",\n",
       " \"TRUMP: Well, I've given him plenty of money.\",\n",
       " \"BAIER: Just to be clear, you can't make a - we're gonna - we're going to move on.You're not gonna make the pledge tonight?\",\n",
       " 'TRUMP: I will not make the pledge at this time.',\n",
       " 'BAIER: OK. Alright.',\n",
       " \"KELLY: Gentlemen, our first round of questions is on the subject of electability in the general election, and we start tonight with you, Dr. Carson.You are a successful neurosurgeon, but you admit that you have had to study up on foreign policy, saying there's a lot to learn.Your critics say that your inexperience shows. You've suggested that the Baltic States are not a part of NATO, just months ago you were unfamiliar with the major political parties and government in Israel, and domestically, you thought Alan Greenspan had been treasury secretary instead of federal reserve chair.Aren't these basic mistakes, and don't they raise legitimate questions about whether you are ready to be president?\",\n",
       " \"CARSON: Well, I could take issue with - with all of those things, but we don't have time.But I will say, we have a debate here tonight, and we will have an opportunity to explore those areas, and I'm looking very much forward to demonstrating that, in fact, the thing that is probably most important is having a brain, and to be able to figure things out and learn things very rapidly.So, you know, experience comes from a large number of different arenas, and America became a great nation early on not because it was flooded with politicians, but because it was flooded with people who understood the value of personal responsibility, hard work, creativity, innovation, and that's what will get us on the right track now, as well.\",\n",
       " 'WALLACE: Senator Rubio, when Jeb Bush announced his candidacy for presidency, he said this: \"There\\'s no passing off responsibility when you\\'re a governor, no blending into the legislative crowd.\"Could you please address Governor Bush across the stage here, and explain to him why you, someone who has never held executive office, are better prepared to be president than he is, a man who you say did a great job running your state of Florida for eight years.',\n",
       " \"RUBIO: Well, thank you for the question, Chris, and it's great to be here tonight. Let me begin by saying this: I'm not new to the political process; I was making a contribution as the speaker of the third largest and most diverse state in the country well before I even got into the Senate.I would add to that that this election cannot be a resume competition. It's important to be qualified, but if this election is a resume competition, then Hillary Clinton's gonna be the next president, because she's been in office and in government longer than anybody else running here tonight.Here's what this election better be about: This election better be about the future, not the past. It better be about the issues our nation and the world is facing today, not simply the issues we once faced.This country is facing an economy that has been radically transformed. You know, the largest retailer in the country and the world today, Amazon, doesn't even own a single store? And these changes have been disruptive. They have changed people's lives. The jobs that once sustained our middle class, they either don't pay enough or they are gone, and we need someone that understands that as our nominee.If I'm our nominee, how is Hillary Clinton gonna lecture me about living paycheck to paycheck? I was raised paycheck to paycheck. How is she - how is she gonna lecture me - how is she gonna lecture me about student loans? I owed over $100,000 just four years ago.If I'm our nominee, we will be the party of the future.\",\n",
       " 'BAIER: Governor Bush, you have insisted that you\\'re your own man. You say you have a life experience uniquely your own. Not your father\\'s, not your brother\\'s.But there are several opponents on this stage who get big- applause lines in early voting states with this line: quote, \"the last thing the country needs is another Bush in the Oval Office.\"So do you understand the real concern in this country about dynastic politics?',\n",
       " \"BUSH: Absolutely, I do, and I'm gonna run hard, run with heart, and run to win.I'm gonna have to earn this. Maybe the barrier - the bar's even higher for me. That's fine.I've got a record in Florida. I'm proud of my dad, and I'm certainly proud of my brother. In Florida, they called me Jeb, because I earned it.I cut taxes every year, totaling $19 billion. We were - we had - we balanced every budget. We went from $1 billion of reserves to $9 billion of reserves.We were one of two states that went to AAA bond rating.\",\n",
       " 'BUSH: They keep - they called me Veto Corleone. Because I vetoed 2,500 separate line-items in the budget.I am my own man. I governed as a conservative, and I govern effectively. And the net effect was, during my eight years, 1.3 million jobs were created. We left the state better off because I applied conservative principles in a purple state the right way, and people rose up.',\n",
       " 'KELLY: Mr. Trump, one of the things people love about you is you speak your mind and you don\\'t use a politician\\'s filter. However, that is not without its downsides, in particular, when it comes to women.You\\'ve called women you don\\'t like \"fat pigs, dogs, slobs, and disgusting animals.\"Your Twitter account-',\n",
       " \"TRUMP: Only Rosie O'Donnell.\",\n",
       " \"KELLY: No, it wasn't.Your Twitter account-\",\n",
       " 'TRUMP: Thank you.',\n",
       " \"KELLY: For the record, it was well beyond Rosie O'Donnell.\"]"
      ]
     },
     "execution_count": 16,
     "metadata": {},
     "output_type": "execute_result"
    }
   ],
   "source": [
    "statements = []\n",
    "for i in text:\n",
    "    if re.match(\"[A-Z]+:\",i,re.MULTILINE):\n",
    "        statements.append(i)\n",
    "    else:\n",
    "        #continue\n",
    "        try:\n",
    "            statements[-1] = str(statements[-1]) + str(i)\n",
    "        except:\n",
    "            continue\n",
    "statements[1:40]"
   ]
  },
  {
   "cell_type": "code",
   "execution_count": 12,
   "metadata": {
    "collapsed": false
   },
   "outputs": [],
   "source": [
    "s = []\n",
    "for i in statements:\n",
    "    dic = {}\n",
    "    speaker = re.findall(\"[A-Z]+:\",i,re.MULTILINE)[0]\n",
    "    dic['speaker'] = speaker.split(':')[0]\n",
    "    text = i.split(speaker)[1]\n",
    "    dic['text'] = text\n",
    "    s.append(dic)"
   ]
  },
  {
   "cell_type": "code",
   "execution_count": 13,
   "metadata": {
    "collapsed": false
   },
   "outputs": [
    {
     "data": {
      "text/plain": [
       "{'speaker': 'KELLY',\n",
       " 'text': \" Welcome to the first debate night of the 2016 presidential campaign, live from Quicken Loans Arena in Cleveland, Ohio.I'm Megyn Kelly, along with my co-moderators, Brett Baier and Chris Wallace.Tonight-Nice.Tonight, thousands of people here in the Q, along with millions of voters at home will get their very first chance to see the candidates face off in a debate, answering the questions you want answered.\"}"
      ]
     },
     "execution_count": 13,
     "metadata": {},
     "output_type": "execute_result"
    }
   ],
   "source": [
    "s[1]"
   ]
  },
  {
   "cell_type": "code",
   "execution_count": 19,
   "metadata": {
    "collapsed": false
   },
   "outputs": [
    {
     "data": {
      "text/plain": [
       "['text', 'speaker']"
      ]
     },
     "execution_count": 19,
     "metadata": {},
     "output_type": "execute_result"
    }
   ],
   "source": [
    "keys = s[0].keys()\n",
    "keys"
   ]
  },
  {
   "cell_type": "code",
   "execution_count": 20,
   "metadata": {
    "collapsed": false
   },
   "outputs": [],
   "source": [
    "#writing the rest\n",
    "with open('transcript.csv', 'wb') as output_file:\n",
    "    dict_writer = csv.DictWriter(output_file, keys)\n",
    "    dict_writer.writeheader()\n",
    "    dict_writer.writerows(s)"
   ]
  },
  {
   "cell_type": "code",
   "execution_count": null,
   "metadata": {
    "collapsed": true
   },
   "outputs": [],
   "source": []
  }
 ],
 "metadata": {
  "kernelspec": {
   "display_name": "Python 2",
   "language": "python",
   "name": "python2"
  },
  "language_info": {
   "codemirror_mode": {
    "name": "ipython",
    "version": 2
   },
   "file_extension": ".py",
   "mimetype": "text/x-python",
   "name": "python",
   "nbconvert_exporter": "python",
   "pygments_lexer": "ipython2",
   "version": "2.7.9"
  }
 },
 "nbformat": 4,
 "nbformat_minor": 0
}
