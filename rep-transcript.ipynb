{
 "cells": [
  {
   "cell_type": "code",
   "execution_count": 50,
   "metadata": {
    "collapsed": false
   },
   "outputs": [],
   "source": [
    "from BeautifulSoup import BeautifulSoup\n",
    "from urllib import urlopen\n",
    "import re, os\n",
    "import csv"
   ]
  },
  {
   "cell_type": "code",
   "execution_count": 23,
   "metadata": {
    "collapsed": false
   },
   "outputs": [],
   "source": [
    "with open(\"transcript.txt\") as f:\n",
    "    text = f.read()\n",
    "text = text.split(\"\\n\")\n",
    "text = filter(None,text)"
   ]
  },
  {
   "cell_type": "code",
   "execution_count": 24,
   "metadata": {
    "collapsed": false
   },
   "outputs": [
    {
     "data": {
      "text/plain": [
       "'KELLY: It is nine p.m. on the East Coast, and the moment of truth has arrived.'"
      ]
     },
     "execution_count": 24,
     "metadata": {},
     "output_type": "execute_result"
    }
   ],
   "source": [
    "text[0]"
   ]
  },
  {
   "cell_type": "code",
   "execution_count": 34,
   "metadata": {
    "collapsed": false
   },
   "outputs": [
    {
     "data": {
      "text/plain": [
       "['KELLY: Welcome to the first debate night of the 2016 presidential campaign, live from Quicken Loans Arena in Cleveland, Ohio.I\\xe2\\x80\\x99m Megyn Kelly, along with my co-moderators, Brett Baier and Chris Wallace.Tonight.Nice.Tonight, thousands of people here in the Q, along with millions of voters at home will get their very first chance to see the candidates face off in a debate, answering the questions you want answered.',\n",
       " 'BAIER: Less than a year from now, in this very arena, one of these 10 candidates or one of the seven on the previous debate tonight will accept the Republican party\\xe2\\x80\\x99s nomination.Tonight\\xe2\\x80\\x99s candidates were selected based on an average of five national polls. Just a few hours ago, you heard from the candidates ranked 11th through 17. And now, the prime-time event, the top 10.',\n",
       " 'WALLACE: Also of note, Fox News is partnering for tonight\\xe2\\x80\\x99s debate with Facebook. For the past several weeks, we\\xe2\\x80\\x99ve been asking you for questions for the candidates on Facebook. Nearly 6 million of you, 6 million, viewed the debate videos on our site, and more than 40,000 of you submitted questions: some of which you will hear us asking the candidates tonight.',\n",
       " 'KELLY: As for the candidates who will be answering those questions? Here they are.Positioned on the stage by how they stand in the polls, in the center of the stage tonight, businessman Donald Trump.Former Florida Governor Jeb Bush.Wisconsin Governor Scott Walker.Former Arkansas Governor Mike Huckabee.']"
      ]
     },
     "execution_count": 34,
     "metadata": {},
     "output_type": "execute_result"
    }
   ],
   "source": [
    "statements = []\n",
    "for i in text:\n",
    "    if re.match(\"[A-Z]+:\",i,re.MULTILINE):\n",
    "        statements.append(i)\n",
    "    else:\n",
    "        #continue\n",
    "        try:\n",
    "            statements[-1] = str(statements[-1]) + str(i)\n",
    "        except:\n",
    "            continue\n",
    "statements[1:5]"
   ]
  },
  {
   "cell_type": "code",
   "execution_count": 52,
   "metadata": {
    "collapsed": false
   },
   "outputs": [],
   "source": [
    "s = []\n",
    "for i in statements:\n",
    "    dic = {}\n",
    "    speaker = re.findall(\"[A-Z]+:\",i,re.MULTILINE)[0]\n",
    "    dic['speaker'] = speaker.split(':')[0]\n",
    "    text = i.split(speaker)[1]\n",
    "    dic['text'] = text\n",
    "    s.append(dic)"
   ]
  },
  {
   "cell_type": "code",
   "execution_count": 54,
   "metadata": {
    "collapsed": false
   },
   "outputs": [
    {
     "data": {
      "text/plain": [
       "{'speaker': 'KELLY',\n",
       " 'text': ' Welcome to the first debate night of the 2016 presidential campaign, live from Quicken Loans Arena in Cleveland, Ohio.I\\xe2\\x80\\x99m Megyn Kelly, along with my co-moderators, Brett Baier and Chris Wallace.Tonight.Nice.Tonight, thousands of people here in the Q, along with millions of voters at home will get their very first chance to see the candidates face off in a debate, answering the questions you want answered.'}"
      ]
     },
     "execution_count": 54,
     "metadata": {},
     "output_type": "execute_result"
    }
   ],
   "source": [
    "s[1]"
   ]
  },
  {
   "cell_type": "code",
   "execution_count": 55,
   "metadata": {
    "collapsed": false
   },
   "outputs": [
    {
     "data": {
      "text/plain": [
       "['text', 'speaker']"
      ]
     },
     "execution_count": 55,
     "metadata": {},
     "output_type": "execute_result"
    }
   ],
   "source": [
    "keys = s[0].keys()\n",
    "keys"
   ]
  },
  {
   "cell_type": "code",
   "execution_count": 56,
   "metadata": {
    "collapsed": false
   },
   "outputs": [],
   "source": [
    "#writing the rest\n",
    "with open('transcript.csv', 'wb') as output_file:\n",
    "    dict_writer = csv.DictWriter(output_file, keys)\n",
    "    dict_writer.writeheader()\n",
    "    dict_writer.writerows(s)"
   ]
  },
  {
   "cell_type": "code",
   "execution_count": null,
   "metadata": {
    "collapsed": true
   },
   "outputs": [],
   "source": []
  }
 ],
 "metadata": {
  "kernelspec": {
   "display_name": "Python 2",
   "language": "python",
   "name": "python2"
  },
  "language_info": {
   "codemirror_mode": {
    "name": "ipython",
    "version": 2
   },
   "file_extension": ".py",
   "mimetype": "text/x-python",
   "name": "python",
   "nbconvert_exporter": "python",
   "pygments_lexer": "ipython2",
   "version": "2.7.9"
  }
 },
 "nbformat": 4,
 "nbformat_minor": 0
}
